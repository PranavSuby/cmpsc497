{
 "cells": [
  {
   "cell_type": "code",
   "execution_count": 10,
   "metadata": {},
   "outputs": [],
   "source": [
    "import numpy as np\n",
    "from sklearn.svm import SVC\n",
    "from sklearn.metrics import classification_report\n",
    "from datasets import load_dataset\n",
    "from gensim.models import Word2Vec\n",
    "from sklearn.model_selection import train_test_split\n",
    "from sklearn.metrics import accuracy_score\n"
   ]
  },
  {
   "cell_type": "code",
   "execution_count": 2,
   "metadata": {},
   "outputs": [],
   "source": [
    "\n",
    "# Load the dataset\n",
    "dataset = load_dataset('batterydata/pos_tagging')\n",
    "\n",
    "# Extract sentences and tags\n",
    "sentences = dataset['train']['words'][:1000]\n",
    "tags = dataset['train']['labels'][:1000]\n",
    "\n",
    "testingSentences = dataset['test']['words']\n",
    "testingTags = dataset['test']['labels']\n",
    "\n",
    "wordDataset = dataset['train']['words'] + dataset['test']['words']\n",
    "wordDataset = [[word.lower() for word in sentence] for sentence in wordDataset]\n",
    "\n",
    "# Train a Word2Vec model to obtain word embeddings\n",
    "# The model trains on entire dataset, but does not have POS embeddings for the dataset\n",
    "# POS embeddings will come from the SVM model\n",
    "w2v_model = Word2Vec(wordDataset, vector_size=100, window=5, min_count=1, workers=4, epochs=50)\n",
    "\n",
    "\n"
   ]
  },
  {
   "cell_type": "code",
   "execution_count": 3,
   "metadata": {},
   "outputs": [],
   "source": [
    "def wordToVec(word, prevW, nextW):\n",
    "    word = word.lower()\n",
    "    if word in w2v_model.wv:\n",
    "        return w2v_model.wv[word]\n",
    "    else:\n",
    "        prevW = prevW.lower()\n",
    "        nextW = nextW.lower()\n",
    "        prevArray = w2v_model.wv[prevW] if prevW in w2v_model.wv else np.zeros(100)\n",
    "        nextArray = w2v_model.wv[nextW] if nextW in w2v_model.wv else np.zeros(100)\n",
    "        return np.mean([prevArray, nextArray], axis=0)"
   ]
  },
  {
   "cell_type": "code",
   "execution_count": 9,
   "metadata": {},
   "outputs": [],
   "source": [
    "# Function to convert sentences to feature vectors\n",
    "def sentence_to_features(sentence):\n",
    "    x = []\n",
    "    for ind, word in enumerate(sentence):\n",
    "        prevWord = sentence[ind-1] if ind > 0 else ''\n",
    "        nextWord = sentence[ind+1] if ind < len(sentence)-1 else ''\n",
    "        wordArray = wordToVec(word, prevWord, nextWord)\n",
    "        \n",
    "        # gets prev2\n",
    "        prev2 = sentence[ind-2] if ind > 1 else ''\n",
    "        next2 = sentence[ind+2] if ind < len(sentence)-2 else ''\n",
    "\n",
    "        otherFeatures = np.array([\n",
    "            word.isupper(), #is upper\n",
    "            word.istitle(), #is title\n",
    "            word.isdigit(), #is digit\n",
    "            len(word), #length of word\n",
    "            \n",
    "        ])\n",
    "        #adds previous and next word vectors\n",
    "        prevWordArray = wordToVec(prevWord, prev2, word)\n",
    "        nextWordArray = wordToVec(nextWord, word, next2)\n",
    "        \n",
    "        wordArray = np.concatenate((wordArray,otherFeatures))\n",
    "        wordArray = np.concatenate((wordArray,prevWordArray))\n",
    "        wordArray = np.concatenate((wordArray,nextWordArray))\n",
    "        \n",
    "        x.append(wordArray)\n",
    "    return np.array(x)"
   ]
  },
  {
   "cell_type": "code",
   "execution_count": 4,
   "metadata": {},
   "outputs": [],
   "source": [
    "# Prepare feature vectors and corresponding labels\n",
    "X = [sentence_to_features(sentence) for sentence in sentences]\n",
    "XTesting = [sentence_to_features(sentence) for sentence in testingSentences]\n",
    "y = [tag for tag_list in tags for tag in tag_list]\n",
    "yTesting = [tag for tag_list in testingTags for tag in tag_list]\n",
    "\n",
    "# Flatten the list of feature vectors and labels\n",
    "X = np.vstack(X)\n",
    "y = np.array(y)\n",
    "\n",
    "XTesting = np.vstack(XTesting)\n",
    "yTesting = np.array(yTesting)\n",
    "\n",
    "# Split the data into training and testing sets\n",
    "X_train, X_test, y_train, y_test = train_test_split(X, y, test_size=0.2, random_state=42)\n"
   ]
  },
  {
   "cell_type": "code",
   "execution_count": 5,
   "metadata": {},
   "outputs": [
    {
     "name": "stdout",
     "output_type": "stream",
     "text": [
      "              precision    recall  f1-score   support\n",
      "\n",
      "           #       1.00      1.00      1.00         2\n",
      "           $       1.00      1.00      1.00        33\n",
      "          ''       1.00      1.00      1.00        32\n",
      "           (       1.00      1.00      1.00         3\n",
      "           )       1.00      1.00      1.00         3\n",
      "           ,       1.00      1.00      1.00       246\n",
      "           .       1.00      1.00      1.00       187\n",
      "           :       1.00      1.00      1.00        14\n",
      "          CC       0.99      1.00      1.00       110\n",
      "          CD       0.88      0.96      0.92       181\n",
      "          DT       1.00      0.99      0.99       436\n",
      "          EX       1.00      1.00      1.00         2\n",
      "          FW       0.00      0.00      0.00         1\n",
      "          IN       0.97      0.99      0.98       510\n",
      "          JJ       0.70      0.76      0.73       319\n",
      "         JJR       0.86      0.82      0.84        22\n",
      "         JJS       0.42      0.83      0.56         6\n",
      "          MD       1.00      1.00      1.00        53\n",
      "          NN       0.82      0.86      0.84       694\n",
      "         NNP       0.95      0.92      0.93       487\n",
      "        NNPS       0.33      0.33      0.33         6\n",
      "         NNS       0.83      0.79      0.81       313\n",
      "         POS       0.95      1.00      0.98        41\n",
      "         PRP       1.00      0.97      0.98        66\n",
      "        PRP$       1.00      1.00      1.00        48\n",
      "          RB       0.78      0.69      0.73       157\n",
      "         RBR       0.50      0.57      0.53         7\n",
      "         RBS       1.00      1.00      1.00         3\n",
      "          RP       0.00      0.00      0.00         1\n",
      "          TO       1.00      1.00      1.00       114\n",
      "          VB       0.88      0.88      0.88       121\n",
      "         VBD       0.78      0.83      0.81       136\n",
      "         VBG       0.59      0.46      0.52        87\n",
      "         VBN       0.69      0.58      0.63       105\n",
      "         VBP       0.86      0.90      0.88        73\n",
      "         VBZ       0.94      0.81      0.87       111\n",
      "         WDT       0.87      1.00      0.93        20\n",
      "          WP       1.00      0.89      0.94         9\n",
      "         WP$       1.00      1.00      1.00         1\n",
      "         WRB       1.00      0.90      0.95        10\n",
      "          ``       1.00      1.00      1.00        24\n",
      "\n",
      "    accuracy                           0.89      4794\n",
      "   macro avg       0.84      0.85      0.84      4794\n",
      "weighted avg       0.89      0.89      0.89      4794\n",
      "\n"
     ]
    },
    {
     "name": "stderr",
     "output_type": "stream",
     "text": [
      "/Users/pranav/Documents/PSU/Year 4/Spring/CMPSC 497/MLenv11/lib/python3.11/site-packages/sklearn/metrics/_classification.py:1565: UndefinedMetricWarning: Precision is ill-defined and being set to 0.0 in labels with no predicted samples. Use `zero_division` parameter to control this behavior.\n",
      "  _warn_prf(average, modifier, f\"{metric.capitalize()} is\", len(result))\n",
      "/Users/pranav/Documents/PSU/Year 4/Spring/CMPSC 497/MLenv11/lib/python3.11/site-packages/sklearn/metrics/_classification.py:1565: UndefinedMetricWarning: Precision is ill-defined and being set to 0.0 in labels with no predicted samples. Use `zero_division` parameter to control this behavior.\n",
      "  _warn_prf(average, modifier, f\"{metric.capitalize()} is\", len(result))\n",
      "/Users/pranav/Documents/PSU/Year 4/Spring/CMPSC 497/MLenv11/lib/python3.11/site-packages/sklearn/metrics/_classification.py:1565: UndefinedMetricWarning: Precision is ill-defined and being set to 0.0 in labels with no predicted samples. Use `zero_division` parameter to control this behavior.\n",
      "  _warn_prf(average, modifier, f\"{metric.capitalize()} is\", len(result))\n"
     ]
    }
   ],
   "source": [
    "# Train the SVM classifier\n",
    "svm_clf = SVC(kernel='linear', C=1)\n",
    "svm_clf.fit(X_train, y_train)\n",
    "\n",
    "# Predict on the test set\n",
    "y_pred = svm_clf.predict(X_test)\n",
    "\n",
    "# Evaluate the model\n",
    "print(classification_report(y_test, y_pred))"
   ]
  },
  {
   "cell_type": "code",
   "execution_count": 6,
   "metadata": {},
   "outputs": [],
   "source": [
    "yTestingPred = svm_clf.predict(XTesting)\n",
    "print(accuracy_score(yTesting, yTestingPred))\n"
   ]
  }
 ],
 "metadata": {
  "kernelspec": {
   "display_name": "MLenv11",
   "language": "python",
   "name": "python3"
  },
  "language_info": {
   "codemirror_mode": {
    "name": "ipython",
    "version": 3
   },
   "file_extension": ".py",
   "mimetype": "text/x-python",
   "name": "python",
   "nbconvert_exporter": "python",
   "pygments_lexer": "ipython3",
   "version": "3.11.11"
  }
 },
 "nbformat": 4,
 "nbformat_minor": 2
}
